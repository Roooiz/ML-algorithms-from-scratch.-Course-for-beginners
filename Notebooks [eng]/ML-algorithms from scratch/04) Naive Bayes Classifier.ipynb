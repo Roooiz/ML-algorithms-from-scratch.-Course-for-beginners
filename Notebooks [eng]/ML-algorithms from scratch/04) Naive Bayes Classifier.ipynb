{
  "nbformat": 4,
  "nbformat_minor": 0,
  "metadata": {
    "colab": {
      "provenance": []
    },
    "kernelspec": {
      "name": "python3",
      "display_name": "Python 3"
    },
    "language_info": {
      "name": "python"
    }
  },
  "cells": [
    {
      "cell_type": "markdown",
      "source": [
        "## **Naive Bayes Classifier**\n",
        "Naive Bayes classifier is a probabilistic classifier based on the Bayes formula with a strict (naive) assumption of the independence of features among themselves for a given class, which greatly simplifies the classification task due to the evaluation of one-dimensional probability densities instead of one multidimensional one."
      ],
      "metadata": {
        "id": "WLtcR3DvbaEl"
      }
    },
    {
      "cell_type": "markdown",
      "source": [
        "### **The main idea**\n",
        "\n",
        "In this case, a one-dimensional probability density is an estimate of the probability of each feature separately, provided they are independent, and a multidimensional one is an estimate of the probability of a combination of all features, which follows from the case of their dependence. It is for this reason that this classifier is called naive, since it greatly simplifies calculations and increases the efficiency of the algorithm. However, this assumption is not always true in practice and in some cases can lead to a significant deterioration in the quality of predictions.\n",
        "\n",
        "The Bayes formula itself looks like this:\n",
        "\n",
        "$$P(A|B) = \\frac{P(B|A) P(A)}{P(B)}$$\n",
        "\n",
        "where:\n",
        "- $P(A|B)$ is the a posterior probability of event A, provided event B is executed;\n",
        "\n",
        "- $P(B|A)$ is the conditional probability of event B, provided that event A is executed;\n",
        "\n",
        "- $P(A)$ and $P(B)$ are prior probabilities of events A and B respectively.\n",
        "\n",
        "And in the context of machine learning, the Bayes formula takes the following form:\n",
        "\n",
        "$$P(y_k|X) = \\frac{P(y_k)P(X|y_k)}{P(X)}$$\n",
        "\n",
        "where:\n",
        "- $P(y_k|X)$ is a posterior probability of the sample belonging to the class $y_k$, taking into account its features $X$;\n",
        "- $P(X|y_k)$ is likelihood, that is, the probability of features $X$ for a given class $y_k$;\n",
        "- $P(y_k)$ is the a prior probability that a randomly selected observation belongs to the class $y_k$;\n",
        "- $P(X)$ is the a prior probability of features $X$.\n",
        "\n",
        "If an object is described by not one, but several features $X_1, X_2, ..., X_n$, then the formula takes the form:\n",
        "\n",
        "$$P(y_k|X_1, X_2, ..., X_n) = \\frac{P(y_k)\\prod_{i=1}^n P(X_i|y_k)}{P(X_1, X_2, ..., X_n)}$$\n",
        "\n",
        "In practice, the numerator of this formula is of the greatest interest, since the denominator depends only on the features, not on the class, and therefore it is often omitted when comparing the probabilities of different classes. Ultimately, the classification rule will be proportional to the choice of the class with the maximum a posterior probability:\n",
        "\n",
        "$$y_k \\propto \\arg\\max_{y_k} P(y_k)\\prod_{i=1}^n P(X_i|y_k)$$\n",
        "\n",
        "To estimate the parameters of the model, that is, the probabilities $P(y_k)$ and $P(X_i|y_k)$, the maximum likelihood method is usually used, which is based on the frequency of occurrence of classes and features in the training dataset.\n",
        "\n",
        "### **Naive Bayes varieties**\n",
        "The scikit-learn library has several implementations of the naive Bayes classifier, differing in assumptions about the distribution of features for a given class. These include the following:\n",
        "\n",
        "- **Gaussian naive Bayes classifier (GaussianNB)** is an option for working with continuous features that have a normal (Gaussian) distribution. The probability of a feature for a given class is calculated using the formula: $$P(x_i|y) =\\frac{1}{\\sqrt{2\\pi\\sigma_y^2}}\\exp\\left(-\\frac{(x_i-\\mu_y)^2}{2\\sigma_y^2}\\right)$$ where $\\mu_y$ and $\\sigma_y$ are the mean and standard deviations of the feature in the class $y$. These parameters are estimated using the maximum likelihood method based on training dataset.\n",
        "\n",
        "- **The Multinomial naive Bayes classifier (MultinomialNB)** is an option for working with discrete features that have a multinomial distribution. Such features are often found in text classification tasks, where they represent the number of occurrences in the text. The probability of a feature for a given class is calculated using the formula: $$P(x_i|y) =\\frac{N_{yi} +\\alpha}{N_y + \\alpha n}$$ where $N_{yi}$ is the number of times the feature $i$ occurs in the class $y$; $N_y$ is the total number of all features in the class $y$; $n$ is the number of different features; and $\\alpha$ is a smoothing parameter that prevents the occurrence of zero probabilities.\n",
        "\n",
        "- **Complement Naive Bayes classifier (ComplementNB)** is an improved version of *MultinomialNB*, suitable for unbalanced datasets. Instead of estimating the probability of a feature for a given class, the algorithm evaluates the normalized weight of the feature $w_{ci}$ for the class $c$ as the probability of the feature when the class is complemented, that is, for all other classes. Thus, the algorithm takes into account not only the frequency of features in the class, but also their absence in other classes, which makes it less sensitive to sampling bias. The formula for calculating the probability of a feature when complementing a class is as follows: \\begin{align}\\begin{aligned}\\hat{\\theta}_{ci} = \\frac{\\alpha_i + \\sum_{j:y_j \\neq c} d_{ij}}\n",
        "                         {\\alpha + \\sum_{j:y_j \\neq c} \\sum_{k} d_{kj}}\\\\w_{ci} = \\log \\hat{\\theta}_{ci}\\\\w_{ci} = \\frac{w_{ci}}{\\sum_{j} |w_{cj}|}\\end{aligned}\\end{align}\n",
        "where is $\\hat{\\theta}_{ci}$ is an estimate of the probability of the feature $i$ when complementing the class $c$, which is calculated using the smoothing parameter $\\alpha_i$ and the frequency of the feature $i$ in all classes except $c$ (in this case $d_{ij}$ is the number of times when the feature $i$ occurs in the $j$ class); $w_{ci}$ is the normalized weight of the feature $i$ for the $c$ class. The predicted class $\\hat c$ for a given feature vector $t$ will look like this: $$\\hat{c} = \\arg\\min_c \\sum_{i} t_i w_{ci}$$\n",
        "\n",
        "- **Bernoulli Naive Bayes classifier (BernoulliNB)** is another option for working with discrete features, but which have a Bernoulli distribution. In this case, the features are binary indicators of the presence or absence of certain properties in an object. For example, in a text classification task, this may be the presence or absence of certain words in the text. The probability of a feature for a given class is calculated using the formula: $$P(x_i|y) = P(x_i = 1|y)x_i + (1-P(x_i = 1|y))(1-x_i)$$ where $P(x_i = 1|y)$ is the probability that the feature $i$ takes the value 1 (true), provided that the object belongs to the class $y$; $x_i$ is the value of the feature $i$ (0 or 1).\n",
        "\n",
        "- **Categorical Naive Bayes classifier (CategoricalNB)** is an option for categorically distributed data based on the assumption that each feature described by the index has its own categorical distribution. The probability of a feature for a given class is calculated using the formula: $$P(x_i = t \\mid y = c \\: ;\\, \\alpha) = \\frac{ N_{tic} + \\alpha}{N_{c} + \\alpha n_i}$$ where $N_{tic} =|\\{j \\in J\\mid x_{ij} =t, y_j =c\\}|$ is the number of times the feature $x_i$ takes the value $t$ in the class $c$; $N_{c} = |\\{j \\in J\\mid y_j = c\\}|$ is the total number of all features in the class $c$ in the training dataset; $\\alpha$ is a smoothing parameter; $n_i$ is the number of available values of the feature $i$.\n",
        "\n",
        "### **The principle of Naive Bayes classifier operation with a Gaussian distribution**\n",
        "The algorithm is constructed as follows:\n",
        "- 1) the a prior probabilities of classes are initially calculated;\n",
        "- 2) after that, the average and standard deviations of features by class are calculated;\n",
        "- 3) based on the obtained deviations of features by classes, the probabilistic density of test features is calculated according to the Gaussian distribution;\n",
        "- 4) next, the posterior probabilities are calculated as the product of the prior probabilities of the classes and the probabilistic densities of the test features;\n",
        "- 5) classes with the maximum a posterior probability will be the final prediction."
      ],
      "metadata": {
        "id": "YSjH9spRGuQo"
      }
    },
    {
      "cell_type": "markdown",
      "source": [
        "### **Naive Bayes in Spam filtering tasks**\n",
        "In the context of spam filtering, Naive Bayes classifier is based on the frequency of occurrence of words in messages for spam and non-spam and maximizing the product of their probabilities. Naivety in this case will consist in the assumption that the words in the message are independent of the order and context. Then the Bayes formula takes the following form:\n",
        "\n",
        "$$P(C|M) \\propto P(C) \\prod_{i=1}^n P(w_i|C), \\ \\ w_i \\in M$$\n",
        "\n",
        "where:\n",
        "- C — class spam or not spam;\n",
        "- M — message;\n",
        "- w_i — the i-th word in the message M;\n",
        "- $\\propto$ — the proportionality sign.\n",
        "\n",
        "For a better understanding, consider the following example. Suppose we want to classify the message **\"Hi, you won a discount and you can get the prize this evening.\"** and we have a training dataset consisting of the following messages:\n",
        "\n",
        "| Message | Class |\n",
        "| --- | --- |\n",
        "| Hi, how are you? | Not spam |\n",
        "| Congratulations, you won a prize! | Spam |\n",
        "| Buy the product now and get a discount! | Spam |\n",
        "| Let's walk this evening. | Not spam |\n",
        "\n",
        "The first step is to calculate the frequency of occurrence of all unique words and their total number in spam and non-spam messages. Then the probability of encountering each word in spam and non-spam messages is calculated based on these frequencies. When there are words in the message that were not previously found in the training dataset, smoothing is used. There are many different types of smoothing, but the essence of the simplest of them is to add $1$ when calculating the frequency of words in messages. This technique avoids the zero probability problem. Below is a table with the calculation of probabilities for all words.\n",
        "\n",
        "| Word | Frequency in Not Spam | Frequency in Spam | Probability in Not Spam | Probability in Spam  |\n",
        "| --- | --- | --- | --- | --- |\n",
        "| Hi | 1 + $1$ = 2 | 0 + $1$ = 1 | 2 / 28 = 0.0714 | 1 / 33 = 0.03 |\n",
        "| how | 1 + $1$ = 2 | 0 + $1$ = 1 | 2 / 28 = 0.0714 | 1 / 33 = 0.03 |\n",
        "| are | 1 + $1$ = 2 | 0 + $1$ = 1 | 2 / 28 = 0.0714 | 1 / 33 = 0.03 |\n",
        "| you | 1 + $1$ = 2 | 1 + $1$ = 2 | 2 / 28 = 0.0714 | 2 / 33 = 0.06 |\n",
        "| Congratulations | 0 + $1$ = 1 | 1 + $1$ = 2 | 1 / 28 = 0.0357 | 2 / 33 = 0.06 |\n",
        "| won | 0 + $1$ = 1 | 1 + $1$ = 2 | 1 / 28 = 0.0357 | 2 / 33 = 0.06 |\n",
        "| a | 0 + $1$ = 1 | 2 + $1$ = 3 | 1 / 28 = 0.0357 | 3 / 33 = 0.09 |\n",
        "| prize | 0 + $1$ = 1 | 1 + $1$ = 2 | 1 / 28 = 0.0357 | 2 / 33 = 0.06 |\n",
        "| Buy | 0 + $1$ = 1 | 1 + $1$ = 2 | 1 / 28 = 0.0357 | 2 / 33 = 0.06 |\n",
        "| the | 0 + $1$ = 1 | 1 + $1$ = 2 | 1 / 28 = 0.0357 | 2 / 33 = 0.06 |\n",
        "| product | 0 + $1$ = 1 | 1 + $1$ = 2 | 1 / 28 = 0.0357 | 2 / 33 = 0.06 |\n",
        "| now | 0 + $1$ = 1 | 1 + $1$ = 2 | 1 / 28 = 0.0357 | 2 / 33 = 0.06 |\n",
        "| and | 0 + $1$ = 1 | 1 + $1$ = 2 | 1 / 28 = 0.0357 | 2 / 33 = 0.06 |\n",
        "| get | 0 + $1$ = 1 | 1 + $1$ = 2 | 1 / 28 = 0.0357 | 2 / 33 = 0.06 |\n",
        "| discount | 0 + $1$ = 1 | 1 + $1$ = 2 | 1 / 28 = 0.0357 | 2 / 33 = 0.06 |\n",
        "| Let's | 1 + $1$ = 2 | 0 + $1$ = 1 | 2 / 28 = 0.0714 | 1 / 33 = 0.03 |\n",
        "| walk | 1 + $1$ = 2 | 0 + $1$ = 1 | 2 / 28 = 0.0714 | 1 / 33 = 0.03 |\n",
        "| this | 1 + $1$ = 2 | 0 + $1$ = 1 | 2 / 28 = 0.0714 | 1 / 33 = 0.03 |\n",
        "| evening | 1 + $1$ = 2 | 0 + $1$ = 1 | 2 / 28 = 0.0714 | 1 / 33 = 0.03 |\n",
        "| can | 0 + $1$ = 1 | 0 + $1$ = 1 | 1 / 28 = 0.0357 | 1 / 33 = 0.03 |\n",
        "| **Total amount of words** | **28** | **33** |\n",
        "\n",
        "At the end, the probabilities of the message being spam or not spam are calculated, and the final prediction will be the class with the highest probability.\n",
        "\n",
        "$P(C|M) = P(C) \\cdot P('Hi'|C) \\cdot P('you'|C) \\cdot P('won'|C) \\cdot P('a'|C)\n",
        "\\cdot P('discount'|C) \\cdot P('and'|C) \\cdot P('you'|C) \\cdot P('can'|C) \\cdot P('get'|C)\n",
        "\\cdot P('the'|C) \\cdot P('prize'|C) \\cdot P('this'|C) \\cdot P('evening'|C)$\n",
        "\n",
        "Where:\n",
        "- $C \\in (Spam, \\ \\ Not \\ \\ Spam)$;\n",
        "- $P(Spam) = P(Not \\ \\ Spam) = \\frac{2}{4} = 0.5$\n"
      ],
      "metadata": {
        "id": "Fs8ykp-9SXK1"
      }
    },
    {
      "cell_type": "markdown",
      "source": [
        "$P(Spam|M) = 0.5 \\cdot 0.03 \\cdot 0.06 \\cdot 0.06 \\cdot 0.09 \\cdot 0.06 \\cdot 0.06 \\cdot 0.06 \\cdot 0.03 \\cdot 0.06 \\cdot 0.06 \\cdot 0.06 \\cdot 0.03 \\cdot 0.03 \\approx 6.12 \\cdot 10^{-18}$\n",
        "\n",
        "$P(Not \\ \\ Spam|M) = 0.5 \\cdot 0.0714 \\cdot 0.0714 \\cdot 0.0357 \\cdot 0.0357 \\cdot 0.0357 \\cdot 0.0357 \\cdot 0.0714 \\cdot 0.0357 \\cdot 0.0357 \\cdot 0.0357 \\cdot 0.0357 \\cdot 0.0714 \\cdot 0.0714 \\approx 2.45 \\cdot 10^{-18}$\n",
        "\n",
        "$P(Spam|M) > P(Not \\ \\ Spam|M) \\rightarrow$ **the message is spam**\n",
        "\n",
        "It is worth adding that in practice, for convenience of calculations, the logarithm of probability is often used instead of the probability itself."
      ],
      "metadata": {
        "id": "GbXuXUE4UOrV"
      }
    },
    {
      "cell_type": "markdown",
      "source": [
        "### **Python implementation from scratch**"
      ],
      "metadata": {
        "id": "aUlIJ0VtU7Dc"
      }
    },
    {
      "cell_type": "code",
      "source": [
        "import numpy as np\n",
        "import pandas as pd\n",
        "import matplotlib.pyplot as plt\n",
        "from sklearn.datasets import load_iris\n",
        "from sklearn.naive_bayes import GaussianNB\n",
        "from sklearn.metrics import accuracy_score\n",
        "from sklearn.preprocessing import LabelEncoder\n",
        "from sklearn.model_selection import train_test_split\n",
        "from mlxtend.plotting import plot_decision_regions"
      ],
      "metadata": {
        "id": "vT1i1YbjVB1f"
      },
      "execution_count": 30,
      "outputs": []
    },
    {
      "cell_type": "code",
      "source": [
        "class GaussianNaiveBayes:\n",
        "    def fit(self, X, y):\n",
        "        classes, cls_counts = np.unique(y, return_counts=True)\n",
        "        n_classes = len(classes)\n",
        "        self.priors = cls_counts / len(y)\n",
        "\n",
        "        # calculate the mean and standard deviations of features by classes\n",
        "        self.X_cls_mean = np.array([np.mean(X[y == c], axis=0) for c in range(n_classes)])\n",
        "        self.X_stds = np.array([np.std(X[y == c], axis=0) for c in range(n_classes)])\n",
        "\n",
        "    # calculate the probability density of the feature according to the Gaussian distribution\n",
        "    def pdf(self, x, mean, std):\n",
        "        return (1 / (np.sqrt(2 * np.pi) * std)) * np.exp(-0.5 * ((x - mean) / std) ** 2)\n",
        "\n",
        "    def predict(self, X):\n",
        "        pdfs = np.array([self.pdf(x, self.X_cls_mean, self.X_stds) for x in X])\n",
        "        posteriors = self.priors * np.prod(pdfs, axis=2)   # shorten Bayes formula\n",
        "\n",
        "        return np.argmax(posteriors, axis=1)"
      ],
      "metadata": {
        "id": "_6JPBgjGVGq8"
      },
      "execution_count": 31,
      "outputs": []
    },
    {
      "cell_type": "code",
      "source": [
        "def decision_boundary_plot(X, y, X_train, y_train, clf, feature_indexes, title=None):\n",
        "    feature1_name, feature2_name = X.columns[feature_indexes]\n",
        "    X_feature_columns = X.values[:, feature_indexes]\n",
        "    X_train_feature_columns = X_train[:, feature_indexes]\n",
        "    clf.fit(X_train_feature_columns, y_train)\n",
        "\n",
        "    plot_decision_regions(X=X_feature_columns, y=y.values, clf=clf)\n",
        "    plt.xlabel(feature1_name)\n",
        "    plt.ylabel(feature2_name)\n",
        "    plt.title(title)"
      ],
      "metadata": {
        "id": "lL23Df3qVJ0R"
      },
      "execution_count": 32,
      "outputs": []
    },
    {
      "cell_type": "markdown",
      "source": [
        "### **Uploading a dataset**\n",
        "[Iris dataset](https://www.kaggle.com/datasets/himanshunakrani/iris-dataset) will be used to train models, where it is necessary to correctly determine the types of flowers based on their characteristics."
      ],
      "metadata": {
        "id": "OAJUvHTnVP-s"
      }
    },
    {
      "cell_type": "code",
      "source": [
        "df_path = \"/content/drive/MyDrive/iris.csv\"\n",
        "iris = pd.read_csv(df_path)\n",
        "X1, y1 = iris.iloc[:, :-1], iris.iloc[:, -1]\n",
        "y1 = pd.Series(LabelEncoder().fit_transform(y1))\n",
        "X1_train, X1_test, y1_train, y1_test = train_test_split(X1.values, y1.values, random_state=0)\n",
        "print(iris)\n"
      ],
      "metadata": {
        "colab": {
          "base_uri": "https://localhost:8080/"
        },
        "id": "SyvzlVvhVQ2a",
        "outputId": "de395158-bc96-40cb-88a3-91d38d4d4817"
      },
      "execution_count": 33,
      "outputs": [
        {
          "output_type": "stream",
          "name": "stdout",
          "text": [
            "     sepal_length  sepal_width  petal_length  petal_width    species\n",
            "0             5.1          3.5           1.4          0.2     setosa\n",
            "1             4.9          3.0           1.4          0.2     setosa\n",
            "2             4.7          3.2           1.3          0.2     setosa\n",
            "3             4.6          3.1           1.5          0.2     setosa\n",
            "4             5.0          3.6           1.4          0.2     setosa\n",
            "..            ...          ...           ...          ...        ...\n",
            "145           6.7          3.0           5.2          2.3  virginica\n",
            "146           6.3          2.5           5.0          1.9  virginica\n",
            "147           6.5          3.0           5.2          2.0  virginica\n",
            "148           6.2          3.4           5.4          2.3  virginica\n",
            "149           5.9          3.0           5.1          1.8  virginica\n",
            "\n",
            "[150 rows x 5 columns]\n"
          ]
        }
      ]
    },
    {
      "cell_type": "markdown",
      "source": [
        "### **Model training and evaluation of the obtained results**\n",
        "Despite its simplicity, in this case the algorithm has showed an excellent result by classifying all the samples correctly, which is possible due to the construction of a flexible decision boundary. From this we can draw an interesting conclusion that in some situations simple models can work much better than complex ones, which can be seen later on the example of other algorithms."
      ],
      "metadata": {
        "id": "6mJoUO12ZYlY"
      }
    },
    {
      "cell_type": "markdown",
      "source": [
        "**Naive Bayes**"
      ],
      "metadata": {
        "id": "gi-kXxHhZyGZ"
      }
    },
    {
      "cell_type": "code",
      "source": [
        "nb_clf = GaussianNaiveBayes()\n",
        "nb_clf.fit(X1_train, y1_train)\n",
        "nb_clf_pred_res = nb_clf.predict(X1_test)\n",
        "nb_clf_accuracy = accuracy_score(y1_test, nb_clf_pred_res)\n",
        "\n",
        "print(f'Naive Bayes classifier accucacy: {nb_clf_accuracy}')\n",
        "print(nb_clf_pred_res)"
      ],
      "metadata": {
        "colab": {
          "base_uri": "https://localhost:8080/"
        },
        "id": "HNy3mPlvYpq1",
        "outputId": "bfebbc89-a4f7-4d45-8b74-b378fff43177"
      },
      "execution_count": 34,
      "outputs": [
        {
          "output_type": "stream",
          "name": "stdout",
          "text": [
            "Naive Bayes classifier accucacy: 1.0\n",
            "[2 1 0 2 0 2 0 1 1 1 2 1 1 1 1 0 1 1 0 0 2 1 0 0 2 0 0 1 1 0 2 1 0 2 2 1 0\n",
            " 1]\n"
          ]
        }
      ]
    },
    {
      "cell_type": "markdown",
      "source": [
        "**Naive Bayes (scikit-learn)**"
      ],
      "metadata": {
        "id": "vcUJmnaaZ1dF"
      }
    },
    {
      "cell_type": "code",
      "source": [
        "sk_nb_clf = GaussianNB()\n",
        "sk_nb_clf.fit(X1_train, y1_train)\n",
        "sk_nb_clf_pred_res = sk_nb_clf.predict(X1_test)\n",
        "sk_nb_clf_accuracy = accuracy_score(y1_test, sk_nb_clf_pred_res)\n",
        "\n",
        "print(f'sk Naive Bayes classifier accucacy: {sk_nb_clf_accuracy}')\n",
        "print(sk_nb_clf_pred_res)\n",
        "\n",
        "feature_indexes = [2, 3]\n",
        "title1 = 'GaussianNB surface'\n",
        "decision_boundary_plot(X1, y1, X1_train, y1_train, sk_nb_clf, feature_indexes, title1)"
      ],
      "metadata": {
        "colab": {
          "base_uri": "https://localhost:8080/",
          "height": 524
        },
        "id": "OFUE33eLZ2DV",
        "outputId": "1d38e397-4c87-4088-ac35-932725c2ad5c"
      },
      "execution_count": 35,
      "outputs": [
        {
          "output_type": "stream",
          "name": "stdout",
          "text": [
            "sk Naive Bayes classifier accucacy: 1.0\n",
            "[2 1 0 2 0 2 0 1 1 1 2 1 1 1 1 0 1 1 0 0 2 1 0 0 2 0 0 1 1 0 2 1 0 2 2 1 0\n",
            " 1]\n"
          ]
        },
        {
          "output_type": "display_data",
          "data": {
            "text/plain": [
              "<Figure size 640x480 with 1 Axes>"
            ],
            "image/png": "[encoded data removed]"
          },
          "metadata": {}
        }
      ]
    },
    {
      "cell_type": "markdown",
      "source": [
        "### **Pros and cons of the Naive Bayes classifier**\n",
        "Pros:\n",
        "- easy to implement and interpret;\n",
        "- practically no parameter settings are required;\n",
        "- high speed and accuracy of predictions in many situations;\n",
        "- it has relatively good resistance to noise and outliers, since it is based on probability distributions and a naive assumption of the independence of features.\n",
        "\n",
        "Cons:\n",
        "- in a case of violation of the assumption of independence of features, the accuracy of predictions may significantly decrease;\n",
        "- may give preference to classes with a large number of samples in case of unbalanced data."
      ],
      "metadata": {
        "id": "01g1BCfwaFwn"
      }
    },
    {
      "cell_type": "markdown",
      "source": [
        "### **Additional sources**\n",
        "Paper «Bayes and Naive-Bayes Classifier», Rajiv Gandhi, Andhra Pradesh.\n",
        "\n",
        "Documentation:\n",
        "- [Naive Bayes description](https://scikit-learn.org/stable/modules/naive_bayes.html);\n",
        "- [GaussianNB](https://scikit-learn.org/stable/modules/generated/sklearn.naive_bayes.GaussianNB.html#sklearn.naive_bayes.GaussianNB);\n",
        "- [MultinomialNB](https://scikit-learn.org/stable/modules/generated/sklearn.naive_bayes.MultinomialNB.html#sklearn.naive_bayes.MultinomialNB);\n",
        "- [ComplementNB](https://scikit-learn.org/stable/modules/generated/sklearn.naive_bayes.ComplementNB.html#sklearn.naive_bayes.ComplementNB);\n",
        "- [BernoulliNB](https://scikit-learn.org/stable/modules/generated/sklearn.naive_bayes.BernoulliNB.html#sklearn.naive_bayes.BernoulliNB);\n",
        "- [CategoricalNB](https://scikit-learn.org/stable/modules/generated/sklearn.naive_bayes.CategoricalNB.html#sklearn.naive_bayes.CategoricalNB).\n",
        "\n",
        "Video: [one](https://www.youtube.com/watch?v=O2L2Uv9pdDA), [two](https://www.youtube.com/watch?v=H3EjCKtlVog), [three](https://www.youtube.com/watch?v=nt63k3bfXS0), [four](https://www.youtube.com/watch?v=ADj95edZc0w).\n",
        "\n"
      ],
      "metadata": {
        "id": "ovU3wJ2aaojO"
      }
    }
  ]
}