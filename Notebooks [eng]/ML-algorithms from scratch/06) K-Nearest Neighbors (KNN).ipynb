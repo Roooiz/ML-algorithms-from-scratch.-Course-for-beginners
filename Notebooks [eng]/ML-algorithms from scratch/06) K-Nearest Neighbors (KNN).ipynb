{
  "nbformat": 4,
  "nbformat_minor": 0,
  "metadata": {
    "colab": {
      "provenance": []
    },
    "kernelspec": {
      "name": "python3",
      "display_name": "Python 3"
    },
    "language_info": {
      "name": "python"
    }
  },
  "cells": [
    {
      "cell_type": "markdown",
      "source": [
        "# **K-Nearest Neighbors method**\n",
        "K-Nearest Neighbors (or simply KNN) is a classification and regression algorithm based on the compactness hypothesis, which assumes that objects located close to each other in the feature space have similar values of the target variable or belong to the same class."
      ],
      "metadata": {
        "id": "T1DygSPE3rdt"
      }
    },
    {
      "cell_type": "markdown",
      "source": [
        "![image.png](data:image/png;base64,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)"
      ],
      "metadata": {
        "id": "Rmtax_CO3x-Q"
      }
    },
    {
      "cell_type": "markdown",
      "source": [
        "### **The principle of KNN operation**\n",
        "The algorithm is constructed as follows:\n",
        "- 1) first, the distance between the test and all training samples is calculated;\n",
        "- 2) next, k-nearest samples (neighbors) are selected from them, where the number k is set in advance;\n",
        "- 3) the final prediction among the selected k-nearest samples will be the mode in the case of classification and the arithmetic mean in the case of regression;\n",
        "- 4) The previous steps are repeated for all test samples.\n",
        "\n",
        "There are many metrics for calculating the distance between objects, among which the most popular are the following:\n",
        "- Euclidean distance is the simplest and most generally accepted metric, which is defined as the length of the segment between two objects $a$ and $b$ in a space with $n$ features and is calculated using the formula:\n",
        "\n",
        "$$d(a, b) = \\sqrt{\\sum_{i=1}^n (a_i - b_i)^2}$$\n",
        "\n",
        "- Manhattan distance is a metric that is defined as the sum of the modules of the coordinate differences of two points in the space between two objects $a$ and $b$ with $n$ features and is calculated using the formula:\n",
        "\n",
        "$$d(a, b) = \\sum_{i=1}^n |a_i - b_i|$$\n",
        "\n",
        "- Cosine distance is a metric that is defined as the angle between two vectors $a$ and $b$ in a space with $n$ features and is calculated using the formula:\n",
        "\n",
        "$$d(a, b) = 1 - \\frac{\\sum_{i=1}^n a_i b_i}{\\sqrt{\\sum_{i=1}^n a_i^2} \\sqrt{\\sum_{i=1}^n b_i^2}}$$\n",
        "\n",
        "### **Faster optimizations**\n",
        "The type of KNN described above is called **Brute-Force** because it uses the brute force method to find the nearest neighbors, which makes it easy to implement, but too slow when working with a large amount of data. To solve this problem, the implementation of scikit-learn provides more advanced methods based on binary trees, which allows you to get a significant increase in performance.\n",
        "\n",
        "#### **Ball Tree**\n",
        "BallTree is a tree-like structure based on splitting the original data space into nested hyperspheres, which allows you to more effectively cut off large areas of space in which there are no nearest neighbors for points. In most cases, this algorithm is suitable for data with an arbitrary distance metric.\n",
        "\n",
        "**Building a Ball Tree consists of the following steps**:\n",
        "- 1) from a set of points, one is randomly selected and the farthest point is located for it;\n",
        "- 2) next, all points are divided into spheres (nodes) according to the closest location to two points from step 1;\n",
        "- 3) then this process is repeated recursively for each sphere until a certain number of points remain in it or a given tree depth is reached.\n",
        "\n",
        "When searching for the k-nearest neighbors for a new point, the algorithm compares the distance from a given point to the center of each child node and leaves only those in which this distance is less than the radius of the nodes.\n",
        "\n",
        "To assess the quality of the resulting tree structure and its further optimization, information about intersecting hyperspheres (nodes) will be very useful A and B in the metric M, the distance between which can be determined as follows:\n",
        "\n",
        "$$d_M(A, B) = \\max(0, d_M(c_A, c_{B}) - r_A - r_{B})$$\n",
        "\n",
        "where $c_A$ and $c_{B}$ are the centers of the spheres, and $r_A$ and $r_{B}$ are their radii.\n",
        "\n",
        "In this case, optimizing the BallTree taking into account intersecting hyperspheres (nodes) may include the following approaches:\n",
        "- balancing the tree: since the intersection of hyperspheres may indicate an unbalanced tree, rebalancing its nodes allows to improve search efficiency by minimizing the number of visited nodes;\n",
        "- choosing the optimal leaf size: in the case of a strong intersection of hyperspheres, increasing the leaf size can reduce the number of nodes, which will also speed up the search;\n",
        "- node merging: useful for significant intersections, which also reduces their total number and is used in the previous paragraphs;\n",
        "- choosing the order of traversal: information about the intersection structure can make the order of visited nodes more efficient, starting with the most likely candidates.\n",
        "\n",
        "It is worth noting that the described optimization methods, give or take, can be applied in a similar way to the algorithm below.\n",
        "\n",
        "#### **KD-Tree**\n",
        "KD-Tree (k-dimensional tree) is another tree-like structure, vaguely resembling a BallTree, however, in this case hyperplanes are used to split points instead of hyperspheres, which also makes it possible to effectively leave only those areas of the data space in which the nearest neighbors may be present. Usually, the KD-Tree is more suitable for data with Euclidean or Manhattan distance metric.\n",
        "\n",
        "**Building a KD-Tree consists of the following steps**:\n",
        "- 1) one of the coordinates is selected from the set of points (usually alternately for each level of the tree, but it is also possible randomly) and the median is calculated from it;\n",
        "- 2) next, all points are divided into two nodes (subsets) with respect to the median: those whose value of the selected coordinate is less than or equal to the median, and those with more;\n",
        "- 3) this process is repeated recursively for each node until a certain number of points remain in it or a given tree depth is reached.\n",
        "\n",
        "When searching for the nearest neighbors for a new point, the algorithm compares the value of a given point with the median at each node, thus choosing the nearest subspace, which will be a leaf with the nearest neighbors. Going back to the root, the algorithm will compare the points in the current node with the nearest neighbors and update their values if they are closer to the specified point.\n",
        "\n",
        "It is also worth adding that KNN can be used in the context of unsupervised learning, for example in clustering tasks to calculate distances between features, as in the DBSCAN algorithm, which will be discussed a little later. To do this, there is a special [NearestNeighbors](https://scikit-learn.org/stable/modules/generated/sklearn.neighbors.NearestNeighbors.html) class in scikit-learn."
      ],
      "metadata": {
        "id": "F4QoeYRW3ySy"
      }
    },
    {
      "cell_type": "markdown",
      "source": [
        "### **Python implementation from scratch**"
      ],
      "metadata": {
        "id": "7sk2V8bX6d_Y"
      }
    },
    {
      "cell_type": "code",
      "source": [
        "import numpy as np\n",
        "import pandas as pd\n",
        "import matplotlib.pyplot as plt\n",
        "from mlxtend.plotting import plot_decision_regions\n",
        "from sklearn.preprocessing import LabelEncoder\n",
        "from sklearn.model_selection import train_test_split\n",
        "from sklearn.metrics import accuracy_score, r2_score\n",
        "from sklearn.datasets import load_iris, load_diabetes\n",
        "from sklearn.neighbors import KNeighborsClassifier, KNeighborsRegressor"
      ],
      "metadata": {
        "id": "5bqeCgWn6muy"
      },
      "execution_count": null,
      "outputs": []
    },
    {
      "cell_type": "code",
      "source": [
        "class KNearestNeighbors:\n",
        "    def __init__(self, n_neighbors=5, regression=False):\n",
        "        self.n_neighbors = n_neighbors\n",
        "        self.regression = regression\n",
        "\n",
        "    def fit(self, X_train, y_train):\n",
        "        self.X_train, self.y_train = X_train, y_train\n",
        "\n",
        "    def _euclidean_distances(self, x_test_i):\n",
        "        return np.sqrt(np.sum((self.X_train - x_test_i) ** 2, axis=1))\n",
        "\n",
        "    def _make_prediction(self, x_test_i):\n",
        "        distances = self._euclidean_distances(x_test_i)   # distances to all neighbors\n",
        "        k_nearest_indexes = np.argsort(distances)[:self.n_neighbors]\n",
        "        targets = self.y_train[k_nearest_indexes]   # k-nearest neighbors target values\n",
        "\n",
        "        return np.mean(targets) if self.regression else np.bincount(targets).argmax()\n",
        "\n",
        "    def predict(self, X_test):\n",
        "        return np.array([self._make_prediction(x) for x in X_test])"
      ],
      "metadata": {
        "id": "_0nXiais6uIE"
      },
      "execution_count": null,
      "outputs": []
    },
    {
      "cell_type": "code",
      "source": [
        "def decision_boundary_plot(X, y, X_train, y_train, clf, feature_indexes, title=None):\n",
        "    feature1_name, feature2_name = X.columns[feature_indexes]\n",
        "    X_feature_columns = X.values[:, feature_indexes]\n",
        "    X_train_feature_columns = X_train[:, feature_indexes]\n",
        "    clf.fit(X_train_feature_columns, y_train)\n",
        "\n",
        "    plot_decision_regions(X=X_feature_columns, y=y.values, clf=clf)\n",
        "    plt.xlabel(feature1_name)\n",
        "    plt.ylabel(feature2_name)\n",
        "    plt.title(title)"
      ],
      "metadata": {
        "id": "ZV7LwhOT6xU8"
      },
      "execution_count": null,
      "outputs": []
    },
    {
      "cell_type": "markdown",
      "source": [
        "### **Uploading datasets**\n",
        "[Iris dataset](https://www.kaggle.com/datasets/himanshunakrani/iris-dataset) will be used to train models, where it is necessary to correctly determine the types of flowers based on their characteristics. In the case of regression, the load_linneryd dataset from scikit-learn is used."
      ],
      "metadata": {
        "id": "r2qAJP4v7Geo"
      }
    },
    {
      "cell_type": "code",
      "source": [
        "df_path = \"/content/drive/MyDrive/iris.csv\"\n",
        "iris = pd.read_csv(df_path)\n",
        "X1, y1 = iris.iloc[:, :-1], iris.iloc[:, -1]\n",
        "y1 = pd.Series(LabelEncoder().fit_transform(y1))\n",
        "X1_train, X1_test, y1_train, y1_test = train_test_split(X1.values, y1.values, test_size=0.3, random_state=0)\n",
        "print(iris)"
      ],
      "metadata": {
        "colab": {
          "base_uri": "https://localhost:8080/"
        },
        "id": "OIsjzwMh8faT",
        "outputId": "28758d20-62fa-4e5f-d6ce-0ebc525c7bc5"
      },
      "execution_count": null,
      "outputs": [
        {
          "output_type": "stream",
          "name": "stdout",
          "text": [
            "     sepal_length  sepal_width  petal_length  petal_width    species\n",
            "0             5.1          3.5           1.4          0.2     setosa\n",
            "1             4.9          3.0           1.4          0.2     setosa\n",
            "2             4.7          3.2           1.3          0.2     setosa\n",
            "3             4.6          3.1           1.5          0.2     setosa\n",
            "4             5.0          3.6           1.4          0.2     setosa\n",
            "..            ...          ...           ...          ...        ...\n",
            "145           6.7          3.0           5.2          2.3  virginica\n",
            "146           6.3          2.5           5.0          1.9  virginica\n",
            "147           6.5          3.0           5.2          2.0  virginica\n",
            "148           6.2          3.4           5.4          2.3  virginica\n",
            "149           5.9          3.0           5.1          1.8  virginica\n",
            "\n",
            "[150 rows x 5 columns]\n"
          ]
        }
      ]
    },
    {
      "cell_type": "code",
      "source": [
        "X2, y2 = load_diabetes(return_X_y=True, as_frame=True)\n",
        "X2_train, X2_test, y2_train, y2_test = train_test_split(X2.values, y2.values, random_state=0)\n",
        "print(X2, y2, sep='\\n')"
      ],
      "metadata": {
        "colab": {
          "base_uri": "https://localhost:8080/"
        },
        "id": "-Ohagk9K8wnB",
        "outputId": "c2f2f072-34fd-475c-d9de-f21f15412b2c"
      },
      "execution_count": null,
      "outputs": [
        {
          "output_type": "stream",
          "name": "stdout",
          "text": [
            "          age       sex       bmi        bp        s1        s2        s3  \\\n",
            "0    0.038076  0.050680  0.061696  0.021872 -0.044223 -0.034821 -0.043401   \n",
            "1   -0.001882 -0.044642 -0.051474 -0.026328 -0.008449 -0.019163  0.074412   \n",
            "2    0.085299  0.050680  0.044451 -0.005670 -0.045599 -0.034194 -0.032356   \n",
            "3   -0.089063 -0.044642 -0.011595 -0.036656  0.012191  0.024991 -0.036038   \n",
            "4    0.005383 -0.044642 -0.036385  0.021872  0.003935  0.015596  0.008142   \n",
            "..        ...       ...       ...       ...       ...       ...       ...   \n",
            "437  0.041708  0.050680  0.019662  0.059744 -0.005697 -0.002566 -0.028674   \n",
            "438 -0.005515  0.050680 -0.015906 -0.067642  0.049341  0.079165 -0.028674   \n",
            "439  0.041708  0.050680 -0.015906  0.017293 -0.037344 -0.013840 -0.024993   \n",
            "440 -0.045472 -0.044642  0.039062  0.001215  0.016318  0.015283 -0.028674   \n",
            "441 -0.045472 -0.044642 -0.073030 -0.081413  0.083740  0.027809  0.173816   \n",
            "\n",
            "           s4        s5        s6  \n",
            "0   -0.002592  0.019907 -0.017646  \n",
            "1   -0.039493 -0.068332 -0.092204  \n",
            "2   -0.002592  0.002861 -0.025930  \n",
            "3    0.034309  0.022688 -0.009362  \n",
            "4   -0.002592 -0.031988 -0.046641  \n",
            "..        ...       ...       ...  \n",
            "437 -0.002592  0.031193  0.007207  \n",
            "438  0.034309 -0.018114  0.044485  \n",
            "439 -0.011080 -0.046883  0.015491  \n",
            "440  0.026560  0.044529 -0.025930  \n",
            "441 -0.039493 -0.004222  0.003064  \n",
            "\n",
            "[442 rows x 10 columns]\n",
            "0      151.0\n",
            "1       75.0\n",
            "2      141.0\n",
            "3      206.0\n",
            "4      135.0\n",
            "       ...  \n",
            "437    178.0\n",
            "438    104.0\n",
            "439    132.0\n",
            "440    220.0\n",
            "441     57.0\n",
            "Name: target, Length: 442, dtype: float64\n"
          ]
        }
      ]
    },
    {
      "cell_type": "markdown",
      "source": [
        "### **Models training and evaluation of the obtained results**\n",
        "KNN showed a good result in the case of classification. It can also be noted that the algorithm is able to build nonlinear decision boundaries, which also allows it to achieve good results with data in which a nonlinear dependence is traced.\n",
        "\n",
        "However, it is worth paying attention to the case of regression: the low r2-score is due to the small number of nearest neighbors by default. If you increase the number of neighbors to 30, then the r2-score will increase by more than 2 times, which indicates the importance of selecting the optimal number of nearest neighbors."
      ],
      "metadata": {
        "id": "QkYkjEdx87Wz"
      }
    },
    {
      "cell_type": "markdown",
      "source": [
        "**KNN classifier**"
      ],
      "metadata": {
        "id": "iOVhh4FE9P5I"
      }
    },
    {
      "cell_type": "code",
      "source": [
        "knn_clf = KNearestNeighbors()\n",
        "knn_clf.fit(X1_train, y1_train)\n",
        "knn_clf_pred_res = knn_clf.predict(X1_test)\n",
        "knn_clf_accuracy = accuracy_score(y1_test, knn_clf_pred_res)\n",
        "\n",
        "print(f'KNN classifier accuracy: {knn_clf_accuracy:}')\n",
        "print(knn_clf_pred_res)"
      ],
      "metadata": {
        "colab": {
          "base_uri": "https://localhost:8080/"
        },
        "id": "rTy6p-BG9Sr5",
        "outputId": "39703108-f1ae-402e-e679-05abc13134b9"
      },
      "execution_count": null,
      "outputs": [
        {
          "output_type": "stream",
          "name": "stdout",
          "text": [
            "KNN classifier accuracy: 0.9777777777777777\n",
            "[2 1 0 2 0 2 0 1 1 1 2 1 1 1 1 0 1 1 0 0 2 1 0 0 2 0 0 1 1 0 2 1 0 2 2 1 0\n",
            " 2 1 1 2 0 2 0 0]\n"
          ]
        }
      ]
    },
    {
      "cell_type": "markdown",
      "source": [
        "**KNN regressor**"
      ],
      "metadata": {
        "id": "9HkAVQS2_Xft"
      }
    },
    {
      "cell_type": "code",
      "source": [
        "knn_reg = KNearestNeighbors(regression=True)\n",
        "knn_reg.fit(X2_train, y2_train)\n",
        "knn_reg_pred_res = knn_reg.predict(X2_test)\n",
        "knn_reg_r2 = r2_score(y2_test, knn_reg_pred_res)\n",
        "\n",
        "print(f'KNN regressor R2 score: {knn_reg_r2}')\n",
        "print(knn_reg_pred_res)"
      ],
      "metadata": {
        "colab": {
          "base_uri": "https://localhost:8080/"
        },
        "id": "moPgvpMt_bNR",
        "outputId": "3b7ce37a-5adf-463e-fd94-845d8187a5a0"
      },
      "execution_count": null,
      "outputs": [
        {
          "output_type": "stream",
          "name": "stdout",
          "text": [
            "KNN regressor R2 score: 0.18912404854026388\n",
            "[253.6 188.6 183.2 138.4 177.8 189.6 111.8 229.  178.  266.8 147.6 193.8\n",
            " 136.4  55.6 297.4  73.6  97.2  83.8 130.8 214.4 173.6 115.2 167.4 101.\n",
            " 186.8 175.6  97.2  75.  172.4 144.2 205.4  63.8 161.6 190.8 110.2 159.2\n",
            " 199.4 141.2 121.4 140.8 155.6 173.8 140.6 175.6 134.2  84.6 110.4 127.2\n",
            " 107.4 209.2 130.2  78.2 183.6 105.  227.4 160.4 155.  104.6 119.2 175.8\n",
            " 159.8 141.6 150.4 100.2 279.2 128.4  91.2 269.2 183.2  88.4 118.  151.6\n",
            "  74.8  97.8 126.2 140.4 127.4 223.6 236.6 191.2 111.6 219.8  69.6 169.4\n",
            "  87.6  92.6 112.  145.8 117.  153.2 115.2  92.8  67.6 172.   92.4 106.6\n",
            " 208.4 173.8 113.2 104.4 141.6 128.2 226.   87.  247.6 147.6 223.6 217.2\n",
            " 149.   72.6 182. ]\n"
          ]
        }
      ]
    },
    {
      "cell_type": "markdown",
      "source": [
        "**KNN classifier (scikit-learn)**"
      ],
      "metadata": {
        "id": "BnA9c-FJ_fMX"
      }
    },
    {
      "cell_type": "code",
      "source": [
        "sk_knn_clf = KNeighborsClassifier()\n",
        "sk_knn_clf.fit(X1_train, y1_train)\n",
        "sk_knn_clf_pred_res = sk_knn_clf.predict(X1_test)\n",
        "sk_knn_clf_accuracy = accuracy_score(y1_test, sk_knn_clf_pred_res)\n",
        "\n",
        "print(f'sk KNN classifier accuracy: {sk_knn_clf_accuracy:}')\n",
        "print(sk_knn_clf_pred_res)\n",
        "\n",
        "feature_indexes = [2, 3]\n",
        "title1 = 'KNeighborsClassifier surface'\n",
        "decision_boundary_plot(X1, y1, X1_train, y1_train, sk_knn_clf, feature_indexes, title1)"
      ],
      "metadata": {
        "colab": {
          "base_uri": "https://localhost:8080/",
          "height": 524
        },
        "id": "28EgdqGy_fxI",
        "outputId": "4ee2452b-5337-4260-9621-1b30cf76e6fc"
      },
      "execution_count": null,
      "outputs": [
        {
          "output_type": "stream",
          "name": "stdout",
          "text": [
            "sk KNN classifier accuracy: 0.9777777777777777\n",
            "[2 1 0 2 0 2 0 1 1 1 2 1 1 1 1 0 1 1 0 0 2 1 0 0 2 0 0 1 1 0 2 1 0 2 2 1 0\n",
            " 2 1 1 2 0 2 0 0]\n"
          ]
        },
        {
          "output_type": "display_data",
          "data": {
            "text/plain": [
              "<Figure size 640x480 with 1 Axes>"
            ],
            "image/png": "[encoded data removed]"
          },
          "metadata": {}
        }
      ]
    },
    {
      "cell_type": "markdown",
      "source": [
        "**KNN regressor (scikit-learn)**"
      ],
      "metadata": {
        "id": "udPzCI6u_yJh"
      }
    },
    {
      "cell_type": "code",
      "source": [
        "sk_knn_reg = KNeighborsRegressor()\n",
        "sk_knn_reg.fit(X2_train, y2_train)\n",
        "sk_knn_reg_pred_res = sk_knn_reg.predict(X2_test)\n",
        "sk_knn_reg_r2 = r2_score(y2_test, sk_knn_reg_pred_res)\n",
        "\n",
        "print(f'sk KNN regressor R2 score: {sk_knn_reg_r2}')\n",
        "print(sk_knn_reg_pred_res)"
      ],
      "metadata": {
        "colab": {
          "base_uri": "https://localhost:8080/"
        },
        "id": "YowR2lNM_yth",
        "outputId": "6137f122-5913-4c59-e4a5-a07811ab4494"
      },
      "execution_count": null,
      "outputs": [
        {
          "output_type": "stream",
          "name": "stdout",
          "text": [
            "sk KNN regressor R2 score: 0.18912404854026388\n",
            "[253.6 188.6 183.2 138.4 177.8 189.6 111.8 229.  178.  266.8 147.6 193.8\n",
            " 136.4  55.6 297.4  73.6  97.2  83.8 130.8 214.4 173.6 115.2 167.4 101.\n",
            " 186.8 175.6  97.2  75.  172.4 144.2 205.4  63.8 161.6 190.8 110.2 159.2\n",
            " 199.4 141.2 121.4 140.8 155.6 173.8 140.6 175.6 134.2  84.6 110.4 127.2\n",
            " 107.4 209.2 130.2  78.2 183.6 105.  227.4 160.4 155.  104.6 119.2 175.8\n",
            " 159.8 141.6 150.4 100.2 279.2 128.4  91.2 269.2 183.2  88.4 118.  151.6\n",
            "  74.8  97.8 126.2 140.4 127.4 223.6 236.6 191.2 111.6 219.8  69.6 169.4\n",
            "  87.6  92.6 112.  145.8 117.  153.2 115.2  92.8  67.6 172.   92.4 106.6\n",
            " 208.4 173.8 113.2 104.4 141.6 128.2 226.   87.  247.6 147.6 223.6 217.2\n",
            " 149.   72.6 182. ]\n"
          ]
        }
      ]
    },
    {
      "cell_type": "markdown",
      "source": [
        "### **Pros and cons of KNN**\n",
        "Pros:\n",
        "- easy to implement and interpret;\n",
        "- it is used in many tasks, especially in recommendation systems;\n",
        "- high predictions accuracy with the correct selection of k and distance metrics.\n",
        "\n",
        "Cons:\n",
        "- high memory consumption and low speed due to the storage and calculation of distances between all training and test samples (meaning KNN in its pure form);\n",
        "- sensitivity to outliers and noise, as well as to unbalanced classes in the data;\n",
        "- with a large number of features, the problem of matching the metric and semantic proximity of objects may arise, which is solved by representation learning (numerical description of objects)."
      ],
      "metadata": {
        "id": "NmFfUjAcAA8Q"
      }
    },
    {
      "cell_type": "markdown",
      "source": [
        "### **Additional sources**\n",
        "Papers:\n",
        "- «Brute-Force k-Nearest Neighbors Search on the GPU», Shengren Li and Nina Amenta;\n",
        "- «Unsupervised Space Partitioning for Nearest Neighbor Search», Abrar Fahim, Mohammed Eunus Ali and Muhammad Aamir Cheema;\n",
        "- «Five Balltree Construction Algorithms», Omohundro, S.M.;\n",
        "- «Ball*-tree: Efficient spatial indexing for constrained nearest-neighbor search in metric\n",
        "spaces», Mohamad Dolatshah, Ali Hadian and Behrouz Minaei-Bidgoli;\n",
        "- «Developments in KD Tree and KNN Searches», Vijay R. Tiwari.\n",
        "\n",
        "Documentation:\n",
        "- [KNN description](https://scikit-learn.org/stable/modules/neighbors.html#classification);\n",
        "- [KNeighborsClassifier](https://scikit-learn.org/stable/modules/generated/sklearn.neighbors.KNeighborsClassifier.html);\n",
        "- [KNeighborsRegressor](https://scikit-learn.org/stable/modules/generated/sklearn.neighbors.KNeighborsRegressor.html)\n",
        "- [NearestNeighbors](https://scikit-learn.org/stable/modules/generated/sklearn.neighbors.NearestNeighbors.html).\n",
        "\n",
        "Video: [one](https://www.youtube.com/watch?v=gcM3QfVHhOo), [two](https://www.youtube.com/watch?v=09mb78oiPkA), [three](https://www.youtube.com/watch?v=fy40y3UFkNE).\n",
        "\n"
      ],
      "metadata": {
        "id": "izNyQNy1Alua"
      }
    }
  ]
}